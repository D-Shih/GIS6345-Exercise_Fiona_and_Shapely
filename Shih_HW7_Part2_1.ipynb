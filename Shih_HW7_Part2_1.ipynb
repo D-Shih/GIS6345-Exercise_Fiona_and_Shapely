{
 "cells": [
  {
   "cell_type": "code",
   "execution_count": 1,
   "metadata": {},
   "outputs": [],
   "source": [
    "# env is ShapelyFiona\n",
    "# Week 7 Homework, Part 2\n",
    "# three shapefiles were sucessfully viewed in ArcGIS Pro after defining projection: WGS 1984 (EPSG 4326)\n"
   ]
  },
  {
   "cell_type": "code",
   "execution_count": 2,
   "metadata": {},
   "outputs": [],
   "source": [
    "import fiona"
   ]
  },
  {
   "cell_type": "code",
   "execution_count": 3,
   "metadata": {},
   "outputs": [],
   "source": [
    "import shapely"
   ]
  },
  {
   "cell_type": "code",
   "execution_count": 4,
   "metadata": {},
   "outputs": [
    {
     "name": "stdout",
     "output_type": "stream",
     "text": [
      "OrderedDict([('name', 'Chicago'), ('lat', '41.88'), ('lon', '-87.63')])\n",
      "OrderedDict([('name', 'Kansas City'), ('lat', '39.101'), ('lon', '-94.584')])\n"
     ]
    }
   ],
   "source": [
    "# import csv and print contents\n",
    "import csv\n",
    "with open('some.csv', 'r') as f: # the 'rb' parameter gave an error that it couldn't be read in as bytes\n",
    "    reader = csv.DictReader(f)  # type(f) is _io.TextIOWrapper  # type(reader) is csv.DictReader\n",
    "    for row in reader: # type(row) is <class 'collections.OrderedDict'>\n",
    "        print(row)\n",
    "        "
   ]
  },
  {
   "cell_type": "code",
   "execution_count": 5,
   "metadata": {},
   "outputs": [],
   "source": [
    "# create point objects from contents of file\n",
    "import csv\n",
    "from shapely.geometry import Point\n",
    "with open('some.csv', 'r') as f:\n",
    "    reader = csv.DictReader(f)   #type(reader) is csv.DictReader\n",
    "    for row in reader:  # type(row) is <class 'collections.OrderedDict'>\n",
    "        point = Point(float(row['lon']), float(row['lat']))  # type(point) is shapely.geometry.point.Point"
   ]
  },
  {
   "cell_type": "code",
   "execution_count": 6,
   "metadata": {
    "scrolled": true
   },
   "outputs": [],
   "source": [
    "# create a shapefile named some.shp, containing points\n",
    "import csv\n",
    "from shapely.geometry import Point, mapping\n",
    "from fiona import collection\n",
    "\n",
    "\n",
    "schema = { 'geometry': 'Point', 'properties': { 'name': 'str' } }\n",
    "with collection(\n",
    "    \"some.shp\", \"w\", \"ESRI Shapefile\", schema) as output:   # type(output) is <class 'fiona.collection.Collection'>\n",
    "    with open('some.csv', 'r') as f: # type(f) is <class '_io.TextIOWrapper'>\n",
    "        reader = csv.DictReader(f)   # type(reader) is <class 'csv.DictReader'>\n",
    "        for row in reader:           # type(row) is <class 'collections.OrderedDict'>\n",
    "            point = Point(float(row['lon']), float(row['lat']))    # type(point) is <class 'shapely.geometry.point.Point'>\n",
    "            output.write({\n",
    "                'properties': {\n",
    "                    'name': row['name']      # type row['name'] is <class 'str'>\n",
    "                },\n",
    "                'geometry': mapping(point)   # type(mapping(point)) is <class 'dict'>\n",
    "            })\n",
    "        "
   ]
  },
  {
   "cell_type": "code",
   "execution_count": 7,
   "metadata": {},
   "outputs": [],
   "source": [
    "# create a shapefile named some_buffer.shp\n",
    "from shapely.geometry import mapping, shape\n",
    "from fiona import collection\n",
    "\n",
    "with collection(\"some.shp\", \"r\") as input:  #type(input) is fiona.collection.Collection\n",
    "    # input.schema is {'properties': OrderedDict([('name', 'str:80')]), 'geometry': 'Polygon'}\n",
    "    # schema = input.schema.copy()\n",
    "    schema = { 'geometry': 'Polygon', 'properties': { 'name': 'str' } }   #type(schema) is dict\n",
    "    with collection(                              # type(collection) is function\n",
    "        \"some_buffer.shp\", \"w\", \"ESRI Shapefile\", schema) as output:\n",
    "        for point in input:   #type(point) is dict, type(input) is fiona.collection.Collection         \n",
    "            # temp = (mapping(shape(point['geometry']).buffer(5.0)))\n",
    "\n",
    "            # len(temp['coordinates'])) # is 1\n",
    "            # len(temp['coordinates'][0]) # is 66\n",
    "            # len(temp['coordinates'][0][0])) # is 2\n",
    "\n",
    "            output.write({\n",
    "                'properties': {\n",
    "                    'name': point['properties']['name'] #type is str\n",
    "                },\n",
    "                'geometry': mapping(shape(point['geometry']).buffer(5.0)) \n",
    "                #type(mapping(shape(point['geometry']))) is dict\n",
    "                #type(mapping(shape(point['geometry']).buffer(5.0))) is dict\n",
    "                #type(shape(point['geometry'])) is shapely.geometry.point.Point\n",
    "                #type(point['geometry']) is dict           \n",
    "            })"
   ]
  },
  {
   "cell_type": "code",
   "execution_count": 8,
   "metadata": {},
   "outputs": [],
   "source": [
    "# create a shapefile with name some_union.shp\n",
    "from shapely.geometry import mapping, shape\n",
    "from shapely.ops import cascaded_union\n",
    "from fiona import collection\n",
    "\n",
    "with collection(\"some_buffer.shp\", \"r\") as input:\n",
    "    schema = input.schema.copy()   #type(schema) is dict\n",
    "    with collection(\n",
    "            \"some_union.shp\", \"w\", \"ESRI Shapefile\", schema) as output:\n",
    "            # output.schema is {'properties': OrderedDict([('name', 'str:80')]), 'geometry': 'Polygon'}\n",
    "        shapes = []\n",
    "        for f in input:   #type(input) is fiona.collection.Collection # type(f) is <class 'dict'>\n",
    "            shapes.append(shape(f['geometry']))\n",
    "            #type(shape(f['geometry'])) is shapely.geometry.polygon.Polygon\n",
    "        merged = cascaded_union(shapes)  #type(merged) is shapely.geometry.polygon.Polygon\n",
    "        output.write({\n",
    "            'properties': {\n",
    "                'name': 'Buffer Area'\n",
    "                },\n",
    "            'geometry': mapping(merged)  #type(mapping(merged)) is dict\n",
    "            })"
   ]
  },
  {
   "cell_type": "code",
   "execution_count": null,
   "metadata": {},
   "outputs": [],
   "source": []
  }
 ],
 "metadata": {
  "kernelspec": {
   "display_name": "ShapelyFiona",
   "language": "python",
   "name": "shapelyfiona"
  },
  "language_info": {
   "codemirror_mode": {
    "name": "ipython",
    "version": 3
   },
   "file_extension": ".py",
   "mimetype": "text/x-python",
   "name": "python",
   "nbconvert_exporter": "python",
   "pygments_lexer": "ipython3",
   "version": "3.7.8"
  }
 },
 "nbformat": 4,
 "nbformat_minor": 4
}
